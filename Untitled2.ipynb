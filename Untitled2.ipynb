{
  "nbformat": 4,
  "nbformat_minor": 0,
  "metadata": {
    "colab": {
      "provenance": [],
      "authorship_tag": "ABX9TyO7i0w2YhZCFTy0uC2hZ6P+",
      "include_colab_link": true
    },
    "kernelspec": {
      "name": "python3",
      "display_name": "Python 3"
    },
    "language_info": {
      "name": "python"
    }
  },
  "cells": [
    {
      "cell_type": "markdown",
      "metadata": {
        "id": "view-in-github",
        "colab_type": "text"
      },
      "source": [
        "<a href=\"https://colab.research.google.com/github/timothydevann/ADM-Case-01-EDA/blob/main/Untitled2.ipynb\" target=\"_parent\"><img src=\"https://colab.research.google.com/assets/colab-badge.svg\" alt=\"Open In Colab\"/></a>"
      ]
    },
    {
      "cell_type": "markdown",
      "source": [
        "**CASE STUDY 01 DATA MINING (A)**\n",
        "\n",
        "**Kelompok M**\n",
        "1. Angelina Putri (2006464152)\n",
        "2. Nathanael Andrian Patrick (1906375713)\n",
        "3. Timothy Devan Chandra (1906375726)\n",
        "4. Vania Putri Musdani (1906377706)"
      ],
      "metadata": {
        "id": "TPqen_Qi98JE"
      }
    },
    {
      "cell_type": "code",
      "execution_count": 12,
      "metadata": {
        "colab": {
          "base_uri": "https://localhost:8080/",
          "height": 130
        },
        "id": "RAUPj4kz95nF",
        "outputId": "0af64ee3-6797-4a80-97c4-eb182e0470c9"
      },
      "outputs": [
        {
          "output_type": "error",
          "ename": "IndentationError",
          "evalue": "ignored",
          "traceback": [
            "\u001b[0;36m  File \u001b[0;32m\"<ipython-input-12-03a4776f6ef4>\"\u001b[0;36m, line \u001b[0;32m3\u001b[0m\n\u001b[0;31m    get_ipython().system('mkdir data')\u001b[0m\n\u001b[0m    ^\u001b[0m\n\u001b[0;31mIndentationError\u001b[0m\u001b[0;31m:\u001b[0m unexpected indent\n"
          ]
        }
      ],
      "source": [
        "import pandas as pd\n",
        "\n",
        "    !mkdir data\n",
        "    !wget -P data/ https://raw.githubusercontent.com/timothydevann/ADM-Case-01-EDA/main/data/bekasi.csv\n",
        "    !wget -P data/ https://raw.githubusercontent.com/timothydevann/ADM-Case-01-EDA/main/data/bogor.csv\n",
        "    !wget -P data/ https://raw.githubusercontent.com/timothydevann/ADM-Case-01-EDA/main/data/depok.csv\n",
        "    !wget -P data/ https://raw.githubusercontent.com/timothydevann/ADM-Case-01-EDA/main/data/jakarta.csv\n",
        "    !wget -P data/ https://raw.githubusercontent.com/timothydevann/ADM-Case-01-EDA/main/data/tangerang.csv\n",
        "    dfJ = pd.read_csv(\"data/jakarta.csv\", low_memory = False, encoding='utf8')\n",
        "    dfD = pd.read_csv(\"data/depok.csv\", low_memory = False, encoding='utf8')\n",
        "    dfB = pd.read_csv(\"data/bogor.csv\", low_memory = False, encoding='utf8')\n",
        "    dfT = pd.read_csv(\"data/tangerang.csv\", low_memory = False, encoding='utf8')\n",
        "    dfX = pd.read_csv(\"data/bekasi.csv\", low_memory = False, encoding='utf8')\n",
        "dfJ.shape, dfD.shape, dfB.shape, dfT.shape, dfX.shape"
      ]
    }
  ]
}